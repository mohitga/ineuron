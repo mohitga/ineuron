{
 "cells": [
  {
   "cell_type": "markdown",
   "metadata": {},
   "source": [
    "###### Write a function to compute 5/0 and use try/except to catch the exceptions."
   ]
  },
  {
   "cell_type": "code",
   "execution_count": 6,
   "metadata": {},
   "outputs": [
    {
     "name": "stdout",
     "output_type": "stream",
     "text": [
      "Zero division error ocured\n",
      "\n",
      "Finally block \n",
      " do other cleanup\n"
     ]
    }
   ],
   "source": [
    "def divide_by_zero():\n",
    "    try:\n",
    "        5/0\n",
    "    except ZeroDivisionError:\n",
    "        print(\"Zero division error ocured\")\n",
    "    except Exception :\n",
    "        print(\"Other exception\")\n",
    "    finally :\n",
    "        print(\"\\nFinally block \\n do other cleanup\")\n",
    "        \n",
    "divide_by_zero()"
   ]
  },
  {
   "cell_type": "markdown",
   "metadata": {},
   "source": [
    "##### Implement a Python program to generate all sentences where subject is in\n",
    "##### [\"Americans\", \"Indians\"] and verb is in [\"Play\", \"watch\"] and the object is in [\"Baseball\",\"cricket\"]."
   ]
  },
  {
   "cell_type": "code",
   "execution_count": 12,
   "metadata": {},
   "outputs": [
    {
     "name": "stdout",
     "output_type": "stream",
     "text": [
      "Americans Play Baseball\n",
      "Americans Play cricket\n",
      "Americans watch Baseball\n",
      "Americans watch cricket\n",
      "Indians Play Baseball\n",
      "Indians Play cricket\n",
      "Indians watch Baseball\n",
      "Indians watch cricket\n"
     ]
    }
   ],
   "source": [
    "subjects = [\"Americans\", \"Indians\"] \n",
    "verbs = [\"Play\", \"watch\"] \n",
    "objects = [\"Baseball\",\"cricket\"]\n",
    "\n",
    "\n",
    "sentences = [' '.join((subject, verb, obj)) for subject in subjects for verb in verbs for obj in objects]\n",
    "\n",
    "for sentence in sentences:\n",
    "    print(sentence)"
   ]
  },
  {
   "cell_type": "code",
   "execution_count": null,
   "metadata": {},
   "outputs": [],
   "source": []
  }
 ],
 "metadata": {
  "kernelspec": {
   "display_name": "Python 3",
   "language": "python",
   "name": "python3"
  },
  "language_info": {
   "codemirror_mode": {
    "name": "ipython",
    "version": 3
   },
   "file_extension": ".py",
   "mimetype": "text/x-python",
   "name": "python",
   "nbconvert_exporter": "python",
   "pygments_lexer": "ipython3",
   "version": "3.7.9"
  }
 },
 "nbformat": 4,
 "nbformat_minor": 4
}
