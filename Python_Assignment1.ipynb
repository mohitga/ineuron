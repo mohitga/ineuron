{
  "nbformat": 4,
  "nbformat_minor": 0,
  "metadata": {
    "colab": {
      "name": "Python Assignment1.ipynb",
      "provenance": []
    },
    "kernelspec": {
      "name": "python3",
      "display_name": "Python 3"
    }
  },
  "cells": [
    {
      "cell_type": "markdown",
      "metadata": {
        "id": "jQl-kMcRAkj2"
      },
      "source": [
        "Write a program which will find all such numbers which are divisible by 7 but are not a multiple of 5, between 2000 and 3200 (both included). The numbers obtained should be printed, in a comma-separated sequence on a single line.\n"
      ]
    },
    {
      "cell_type": "code",
      "metadata": {
        "colab": {
          "base_uri": "https://localhost:8080/"
        },
        "id": "TBZ64DEaAdMZ",
        "outputId": "98b00e81-cea3-4e24-9e50-2f788619402f"
      },
      "source": [
        "return_value = []\n",
        "for e in range (2000, 3200):\n",
        "  if (e %7==0) and (e % 5==0):\n",
        "    return_value.append(str(e))\n",
        "  \n",
        "print(\",\".join(return_value))"
      ],
      "execution_count": 1,
      "outputs": [
        {
          "output_type": "stream",
          "text": [
            "2030,2065,2100,2135,2170,2205,2240,2275,2310,2345,2380,2415,2450,2485,2520,2555,2590,2625,2660,2695,2730,2765,2800,2835,2870,2905,2940,2975,3010,3045,3080,3115,3150,3185\n"
          ],
          "name": "stdout"
        }
      ]
    },
    {
      "cell_type": "markdown",
      "metadata": {
        "id": "ffxKhmuSAgyn"
      },
      "source": [
        "Write a Python program to accept the user's first and last name and then getting them printed in the the reverse order with a space between first name and last name.\n"
      ]
    },
    {
      "cell_type": "code",
      "metadata": {
        "colab": {
          "base_uri": "https://localhost:8080/"
        },
        "id": "Q5Dq9JlbAvfL",
        "outputId": "f4534d8e-f251-4c4f-ce2b-dc9cad7ebc67"
      },
      "source": [
        "Name =  input(\"Enter your name \")\n",
        "print(Name[::-1])"
      ],
      "execution_count": 4,
      "outputs": [
        {
          "output_type": "stream",
          "text": [
            "Enter your name Mohit Garg\n",
            "graG tihoM\n"
          ],
          "name": "stdout"
        }
      ]
    },
    {
      "cell_type": "markdown",
      "metadata": {
        "id": "UjMprPlaAhba"
      },
      "source": [
        "Write a Python program to find the volume of a sphere with diameter 12 cm. V=4/3 * π * r3\n"
      ]
    },
    {
      "cell_type": "code",
      "metadata": {
        "colab": {
          "base_uri": "https://localhost:8080/"
        },
        "id": "35RG2pG_Awk3",
        "outputId": "832c66e4-3a87-4911-c5d6-ca8a8a610a4d"
      },
      "source": [
        "r = 12\n",
        "volume = 4/3 * 22/7 * r**3\n",
        "print (\" Volume -> {:.2f}\".format(volume))"
      ],
      "execution_count": 3,
      "outputs": [
        {
          "output_type": "stream",
          "text": [
            " Volume -> 7241.14\n"
          ],
          "name": "stdout"
        }
      ]
    }
  ]
}