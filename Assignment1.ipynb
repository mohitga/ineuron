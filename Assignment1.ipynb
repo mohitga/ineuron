{
 "cells": [
  {
   "cell_type": "markdown",
   "metadata": {
    "id": "yhx9WIVm4fZg"
   },
   "source": [
    "1. Write a program which will find all such numbers which are divisible by 7 but are not a multiple of 5, between 2000 and 3200 (both included). The numbers obtained should be printed, in a comma-separated sequence on a single line."
   ]
  },
  {
   "cell_type": "code",
   "execution_count": 1,
   "metadata": {
    "colab": {
     "base_uri": "https://localhost:8080/"
    },
    "id": "pvHTanUR4qSt",
    "outputId": "6614f68c-2189-4b7a-ec0a-cf62767aa8cf"
   },
   "outputs": [
    {
     "name": "stdout",
     "output_type": "stream",
     "text": [
      "2030,2065,2100,2135,2170,2205,2240,2275,2310,2345,2380,2415,2450,2485,2520,2555,2590,2625,2660,2695,2730,2765,2800,2835,2870,2905,2940,2975,3010,3045,3080,3115,3150,3185\n"
     ]
    }
   ],
   "source": [
    "return_value = []\n",
    "for e in range (2000, 3200):\n",
    "  if (e %7==0) and (e % 5==0):\n",
    "    return_value.append(str(e))\n",
    "  \n",
    "print(\",\".join(return_value))\n"
   ]
  },
  {
   "cell_type": "markdown",
   "metadata": {
    "id": "dDU1Z9o162vL"
   },
   "source": [
    "2. Write a Python program to accept the user's first and last name and then getting them printed in the the reverse order with a space between first name and last name."
   ]
  },
  {
   "cell_type": "code",
   "execution_count": 2,
   "metadata": {
    "colab": {
     "base_uri": "https://localhost:8080/"
    },
    "id": "9RNRCUVj4qEa",
    "outputId": "2fe403ed-9865-42db-fadc-7f64a045f1ac"
   },
   "outputs": [
    {
     "name": "stdout",
     "output_type": "stream",
     "text": [
      " Enter your first name mohit\n",
      " Enter your last name garg\n",
      "mohit garg\n"
     ]
    }
   ],
   "source": [
    "firstName =  str(input(\" Enter your first name \"))\n",
    "lastName =  str(input(\" Enter your last name \"))\n",
    "print(firstName + \" \"+ lastName)"
   ]
  },
  {
   "cell_type": "markdown",
   "metadata": {
    "id": "-bbN2hEu8Nid"
   },
   "source": [
    "3. Write a Python program to find the volume of a sphere with diameter 12 cm.\n",
    "V=4/3 * π * r3"
   ]
  },
  {
   "cell_type": "code",
   "execution_count": 3,
   "metadata": {
    "colab": {
     "base_uri": "https://localhost:8080/"
    },
    "id": "9c8f-5Ic8hPZ",
    "outputId": "a2d1372f-a4f7-45ae-e0a4-03d80b4b128a"
   },
   "outputs": [
    {
     "name": "stdout",
     "output_type": "stream",
     "text": [
      " Volume -> 905.14\n"
     ]
    }
   ],
   "source": [
    "r = 12/2\n",
    "volume = 4/3 * 22/7 * r**3\n",
    "print (\" Volume -> {:.2f}\".format(volume))"
   ]
  },
  {
   "cell_type": "code",
   "execution_count": null,
   "metadata": {},
   "outputs": [],
   "source": []
  }
 ],
 "metadata": {
  "colab": {
   "name": "Python_Assignment1.ipynb",
   "provenance": []
  },
  "kernelspec": {
   "display_name": "Python 3",
   "language": "python",
   "name": "python3"
  },
  "language_info": {
   "codemirror_mode": {
    "name": "ipython",
    "version": 3
   },
   "file_extension": ".py",
   "mimetype": "text/x-python",
   "name": "python",
   "nbconvert_exporter": "python",
   "pygments_lexer": "ipython3",
   "version": "3.7.9"
  }
 },
 "nbformat": 4,
 "nbformat_minor": 1
}
